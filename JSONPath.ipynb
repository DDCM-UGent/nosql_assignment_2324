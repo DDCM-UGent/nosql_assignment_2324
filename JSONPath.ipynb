{
 "cells": [
  {
   "cell_type": "markdown",
   "id": "7f7d98c3-f8c2-4823-a7d3-0202a0fde4ff",
   "metadata": {},
   "source": [
    "# NoSQL: Hierarchical Querying Workshop - JSONPath"
   ]
  },
  {
   "cell_type": "markdown",
   "id": "34a89cbf-9dc7-4396-80e8-657f37e0c6c9",
   "metadata": {},
   "source": [
    "## System Requirements"
   ]
  },
  {
   "cell_type": "code",
   "execution_count": null,
   "id": "8761b55d-adb5-43d6-98e1-0d19f5f3018e",
   "metadata": {
    "scrolled": true,
    "tags": []
   },
   "outputs": [],
   "source": [
    "!pip install psycopg2-binary"
   ]
  },
  {
   "cell_type": "markdown",
   "id": "a4fa84e4-13f9-43b8-a7ac-82a5da7e21a0",
   "metadata": {},
   "source": [
    "## Imports"
   ]
  },
  {
   "cell_type": "code",
   "execution_count": null,
   "id": "f86a71b2-d486-404e-adb2-092b58d9e6c3",
   "metadata": {
    "scrolled": true,
    "tags": []
   },
   "outputs": [],
   "source": [
    "from internal.json import JSONDocument, pprint"
   ]
  },
  {
   "cell_type": "markdown",
   "id": "a424a78e-7091-4322-b25a-0d56ea0e09f6",
   "metadata": {},
   "source": [
    "## Setup"
   ]
  },
  {
   "cell_type": "code",
   "execution_count": null,
   "id": "9b5acb1a-6120-4c72-a375-b81e492a286a",
   "metadata": {
    "scrolled": true,
    "tags": []
   },
   "outputs": [],
   "source": [
    "doc = JSONDocument('connection.properties')"
   ]
  },
  {
   "cell_type": "markdown",
   "id": "59d6fa31-f99d-49a6-b720-71dd35b57dc0",
   "metadata": {},
   "source": [
    "## Example"
   ]
  },
  {
   "cell_type": "code",
   "execution_count": null,
   "id": "7eb79b72-cd14-4355-b259-bb4df4e78611",
   "metadata": {
    "scrolled": true,
    "tags": []
   },
   "outputs": [],
   "source": [
    "pprint(doc.jsonpath('$[0].ranking[0].cyclist.name'))"
   ]
  },
  {
   "cell_type": "markdown",
   "id": "792ceb81-e39a-4491-bf3a-e275bb504113",
   "metadata": {},
   "source": [
    "## Solutions (start here)"
   ]
  },
  {
   "cell_type": "code",
   "execution_count": null,
   "id": "5ee87c89-5a44-4cc8-9ad8-d7ea9c81a739",
   "metadata": {
    "scrolled": true,
    "tags": []
   },
   "outputs": [],
   "source": [
    "pprint(doc.jsonpath(''))"
   ]
  },
  {
   "cell_type": "code",
   "execution_count": null,
   "id": "cebb1cb8-886b-462e-ada4-9a70f1632852",
   "metadata": {
    "scrolled": true
   },
   "outputs": [],
   "source": []
  },
  {
   "cell_type": "code",
   "execution_count": null,
   "id": "72fc402e-fbcc-46f4-b093-00c61b8aa4af",
   "metadata": {
    "scrolled": true
   },
   "outputs": [],
   "source": []
  },
  {
   "cell_type": "code",
   "execution_count": null,
   "id": "4b9790a9-0053-4522-ac6a-a5954643e7fb",
   "metadata": {
    "scrolled": true
   },
   "outputs": [],
   "source": []
  },
  {
   "cell_type": "code",
   "execution_count": null,
   "id": "0c01e50d-6512-450d-b582-73f9fe531721",
   "metadata": {
    "scrolled": true
   },
   "outputs": [],
   "source": []
  },
  {
   "cell_type": "code",
   "execution_count": null,
   "id": "fd7c6dc5-746f-40a1-9c0e-52a7eba7c9ab",
   "metadata": {
    "scrolled": true
   },
   "outputs": [],
   "source": []
  }
 ],
 "metadata": {
  "kernelspec": {
   "display_name": "Python 3 (ipykernel)",
   "language": "python",
   "name": "python3"
  },
  "language_info": {
   "codemirror_mode": {
    "name": "ipython",
    "version": 3
   },
   "file_extension": ".py",
   "mimetype": "text/x-python",
   "name": "python",
   "nbconvert_exporter": "python",
   "pygments_lexer": "ipython3",
   "version": "3.10.6"
  }
 },
 "nbformat": 4,
 "nbformat_minor": 5
}
