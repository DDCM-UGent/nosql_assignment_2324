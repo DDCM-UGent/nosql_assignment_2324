{
 "cells": [
  {
   "cell_type": "markdown",
   "id": "8d3a4c39-c1f9-4a64-a4d4-f9848151d12c",
   "metadata": {},
   "source": [
    "# NoSQL: Hierarchical Querying Workshop - XPath"
   ]
  },
  {
   "cell_type": "markdown",
   "id": "2c271e57-4677-4f6d-a8d0-3e8a8f20ae57",
   "metadata": {},
   "source": [
    "## System requirements"
   ]
  },
  {
   "cell_type": "code",
   "execution_count": 1,
   "id": "f3ccabf4-10dd-4c26-b5b0-ad99da1807a3",
   "metadata": {
    "execution": {
     "iopub.execute_input": "2024-03-08T10:02:46.518390Z",
     "iopub.status.busy": "2024-03-08T10:02:46.518132Z",
     "iopub.status.idle": "2024-03-08T10:02:48.114233Z",
     "shell.execute_reply": "2024-03-08T10:02:48.113509Z",
     "shell.execute_reply.started": "2024-03-08T10:02:46.518367Z"
    },
    "scrolled": true,
    "tags": []
   },
   "outputs": [
    {
     "name": "stdout",
     "output_type": "stream",
     "text": [
      "Defaulting to user installation because normal site-packages is not writeable\n",
      "Requirement already satisfied: lxml in /home/student/.local/lib/python3.10/site-packages (4.9.2)\n",
      "\n",
      "\u001b[1m[\u001b[0m\u001b[34;49mnotice\u001b[0m\u001b[1;39;49m]\u001b[0m\u001b[39;49m A new release of pip is available: \u001b[0m\u001b[31;49m23.0.1\u001b[0m\u001b[39;49m -> \u001b[0m\u001b[32;49m24.0\u001b[0m\n",
      "\u001b[1m[\u001b[0m\u001b[34;49mnotice\u001b[0m\u001b[1;39;49m]\u001b[0m\u001b[39;49m To update, run: \u001b[0m\u001b[32;49mpython -m pip install --upgrade pip\u001b[0m\n"
     ]
    }
   ],
   "source": [
    "!pip install lxml"
   ]
  },
  {
   "cell_type": "markdown",
   "id": "a8a6066f-4383-4739-adde-f2ad24b2a2a1",
   "metadata": {},
   "source": [
    "## Imports"
   ]
  },
  {
   "cell_type": "code",
   "execution_count": 2,
   "id": "4d6c0ca7-8e82-409d-b978-6697ad4a6829",
   "metadata": {
    "execution": {
     "iopub.execute_input": "2024-03-08T10:02:48.115516Z",
     "iopub.status.busy": "2024-03-08T10:02:48.115274Z",
     "iopub.status.idle": "2024-03-08T10:02:48.135341Z",
     "shell.execute_reply": "2024-03-08T10:02:48.134726Z",
     "shell.execute_reply.started": "2024-03-08T10:02:48.115490Z"
    },
    "scrolled": true,
    "tags": []
   },
   "outputs": [],
   "source": [
    "from internal.xml import XMLDocument, pprint"
   ]
  },
  {
   "cell_type": "markdown",
   "id": "53a4bc92-c03b-4c81-ba9c-d27d248cad1c",
   "metadata": {},
   "source": [
    "## Setup"
   ]
  },
  {
   "cell_type": "code",
   "execution_count": 3,
   "id": "4438f1eb-b896-4f14-810e-8531088480b5",
   "metadata": {
    "execution": {
     "iopub.execute_input": "2024-03-08T10:02:48.136817Z",
     "iopub.status.busy": "2024-03-08T10:02:48.136240Z",
     "iopub.status.idle": "2024-03-08T10:02:48.154188Z",
     "shell.execute_reply": "2024-03-08T10:02:48.153610Z",
     "shell.execute_reply.started": "2024-03-08T10:02:48.136793Z"
    },
    "scrolled": true,
    "tags": []
   },
   "outputs": [],
   "source": [
    "doc = XMLDocument('data/cycling.xml')"
   ]
  },
  {
   "cell_type": "markdown",
   "id": "f28817d7-dc47-4cf6-b62f-85d99a8ceb11",
   "metadata": {},
   "source": [
    "## Example"
   ]
  },
  {
   "cell_type": "code",
   "execution_count": 4,
   "id": "67eb5838-f766-48e3-a207-cf8bffde205e",
   "metadata": {
    "execution": {
     "iopub.execute_input": "2024-03-08T10:02:48.156218Z",
     "iopub.status.busy": "2024-03-08T10:02:48.155642Z",
     "iopub.status.idle": "2024-03-08T10:02:48.159712Z",
     "shell.execute_reply": "2024-03-08T10:02:48.159112Z",
     "shell.execute_reply.started": "2024-03-08T10:02:48.156192Z"
    },
    "scrolled": true,
    "tags": []
   },
   "outputs": [
    {
     "name": "stdout",
     "output_type": "stream",
     "text": [
      "<cyclist>\n",
      "  <name>Louis Meintjes</name>\n",
      "  <country_code>ZA</country_code>\n",
      "  <birthdate>1992-02-21</birthdate>\n",
      "  <birthplace>Pretoria</birthplace>\n",
      "  <weight>58.0</weight>\n",
      "  <size>1.73</size>\n",
      "  <team>Intermarch&#233; - Wanty - Gobert Mat&#233;riaux</team>\n",
      "</cyclist>\n",
      "                \n"
     ]
    }
   ],
   "source": [
    "pprint(doc.xpath('/stages/stage[1]/ranking/ranking_entry[1]/cyclist'))"
   ]
  },
  {
   "cell_type": "markdown",
   "id": "44c6c201-1206-4332-a47d-428f43d2927b",
   "metadata": {},
   "source": [
    "## Solutions (start here)"
   ]
  },
  {
   "cell_type": "code",
   "execution_count": 5,
   "id": "4e2522e4-aa6d-4266-9a5c-392602513a4f",
   "metadata": {
    "execution": {
     "iopub.execute_input": "2024-03-08T10:02:48.161257Z",
     "iopub.status.busy": "2024-03-08T10:02:48.160699Z",
     "iopub.status.idle": "2024-03-08T10:02:48.164574Z",
     "shell.execute_reply": "2024-03-08T10:02:48.163874Z",
     "shell.execute_reply.started": "2024-03-08T10:02:48.161224Z"
    },
    "scrolled": true
   },
   "outputs": [
    {
     "name": "stdout",
     "output_type": "stream",
     "text": [
      "Empty Query\n"
     ]
    }
   ],
   "source": [
    "pprint(doc.xpath(''))"
   ]
  },
  {
   "cell_type": "code",
   "execution_count": null,
   "id": "9ddc3740-939c-431e-963f-f8d06cfc16d6",
   "metadata": {
    "scrolled": true
   },
   "outputs": [],
   "source": []
  },
  {
   "cell_type": "code",
   "execution_count": null,
   "id": "e29bc213-b02b-44bf-9ac6-d08fb6c17e29",
   "metadata": {
    "scrolled": true
   },
   "outputs": [],
   "source": []
  },
  {
   "cell_type": "code",
   "execution_count": null,
   "id": "b069a882-f202-4995-89e6-022a2dd0737d",
   "metadata": {
    "scrolled": true
   },
   "outputs": [],
   "source": []
  },
  {
   "cell_type": "code",
   "execution_count": null,
   "id": "3e4cb0d3-a287-48ca-b601-cc06d59a8e1a",
   "metadata": {
    "scrolled": true
   },
   "outputs": [],
   "source": []
  },
  {
   "cell_type": "code",
   "execution_count": null,
   "id": "4740a8b6-d72c-4b69-a305-5c43fd4aba49",
   "metadata": {
    "scrolled": true
   },
   "outputs": [],
   "source": []
  },
  {
   "cell_type": "code",
   "execution_count": null,
   "id": "0b48c4d3-60f4-4fc5-84d2-75b6e4f010f5",
   "metadata": {
    "scrolled": true
   },
   "outputs": [],
   "source": []
  },
  {
   "cell_type": "code",
   "execution_count": null,
   "id": "94d10b3c-80cc-4633-bc60-a482bdd83085",
   "metadata": {
    "scrolled": true
   },
   "outputs": [],
   "source": []
  },
  {
   "cell_type": "code",
   "execution_count": null,
   "id": "9f475e73-c853-4e29-838c-94cf669c394d",
   "metadata": {
    "scrolled": true
   },
   "outputs": [],
   "source": []
  },
  {
   "cell_type": "code",
   "execution_count": null,
   "id": "6d7d1081-14fe-4baa-baaf-4dfe17359cf8",
   "metadata": {
    "scrolled": true
   },
   "outputs": [],
   "source": []
  }
 ],
 "metadata": {
  "kernelspec": {
   "display_name": "Python 3 (ipykernel)",
   "language": "python",
   "name": "python3"
  },
  "language_info": {
   "codemirror_mode": {
    "name": "ipython",
    "version": 3
   },
   "file_extension": ".py",
   "mimetype": "text/x-python",
   "name": "python",
   "nbconvert_exporter": "python",
   "pygments_lexer": "ipython3",
   "version": "3.10.6"
  }
 },
 "nbformat": 4,
 "nbformat_minor": 5
}
