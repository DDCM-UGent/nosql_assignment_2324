{
 "cells": [
  {
   "cell_type": "markdown",
   "id": "706b08c2-282f-4aae-86c8-c132ddd12ad5",
   "metadata": {},
   "source": [
    "# NoSQL: Hierarchical Querying Workshop - MongoDB"
   ]
  },
  {
   "cell_type": "markdown",
   "id": "564cb776-bfab-43b9-9bbe-2a49f7215fcf",
   "metadata": {},
   "source": [
    "## System Requirements"
   ]
  },
  {
   "cell_type": "code",
   "execution_count": null,
   "id": "f78e53f5-2bf3-4412-a4c8-ffa59ac9701d",
   "metadata": {
    "scrolled": true,
    "tags": []
   },
   "outputs": [],
   "source": [
    "!pip install pymongo"
   ]
  },
  {
   "cell_type": "markdown",
   "id": "d9cdee22-a436-4b88-92e2-0634c69b08dd",
   "metadata": {},
   "source": [
    "## Import"
   ]
  },
  {
   "cell_type": "code",
   "execution_count": null,
   "id": "0f95fd25-d19b-4137-a478-36d5aaff8bb4",
   "metadata": {
    "scrolled": true,
    "tags": []
   },
   "outputs": [],
   "source": [
    "from internal.mongo import Mongo, pprint"
   ]
  },
  {
   "cell_type": "markdown",
   "id": "e9356a22-ef70-4936-b6d2-1f71888dffe3",
   "metadata": {},
   "source": [
    "## Setup"
   ]
  },
  {
   "cell_type": "code",
   "execution_count": null,
   "id": "fb60dfd9-a5cf-4ad4-87ac-e21fc87a240a",
   "metadata": {
    "scrolled": true,
    "tags": []
   },
   "outputs": [],
   "source": [
    "db = Mongo('connection.properties')"
   ]
  },
  {
   "cell_type": "markdown",
   "id": "a03913cf-b166-40c1-8798-85fac5ee053d",
   "metadata": {},
   "source": [
    "## Example"
   ]
  },
  {
   "cell_type": "code",
   "execution_count": null,
   "id": "b569206f-bd7c-4c0e-858c-6501e6f56d63",
   "metadata": {
    "scrolled": true,
    "tags": []
   },
   "outputs": [],
   "source": [
    "pprint(db.collection.find({}, {'ranking.cyclist.name': 1}))"
   ]
  },
  {
   "cell_type": "code",
   "execution_count": null,
   "id": "4466d50c-0aaa-4b6e-8312-6f51162d2677",
   "metadata": {
    "scrolled": true,
    "tags": []
   },
   "outputs": [],
   "source": [
    "pprint(db.collection.find_one({}, {'ranking.cyclist.name': 1}))"
   ]
  },
  {
   "cell_type": "code",
   "execution_count": null,
   "id": "853cd467-7065-4c10-a2fb-ecacac808930",
   "metadata": {
    "scrolled": true
   },
   "outputs": [],
   "source": [
    "pprint(db.collection.find({}, {'ranking.cyclist.name': 1}).sort('ranking.cyclist.name'))"
   ]
  },
  {
   "cell_type": "markdown",
   "id": "a69b7e6c-5bd4-4b40-86f5-8e7884193de2",
   "metadata": {},
   "source": [
    "## Solutions (start here)"
   ]
  },
  {
   "cell_type": "code",
   "execution_count": null,
   "id": "47f9755b-2e55-4853-98dd-a9d9f5f9f3ce",
   "metadata": {
    "scrolled": true
   },
   "outputs": [],
   "source": [
    "pprint(db.collection.find())"
   ]
  },
  {
   "cell_type": "code",
   "execution_count": null,
   "id": "1d8ee9e7-a126-4faa-b54a-5ab35828a2e0",
   "metadata": {
    "scrolled": true
   },
   "outputs": [],
   "source": []
  },
  {
   "cell_type": "code",
   "execution_count": null,
   "id": "b0146b03-76c9-433b-b868-5abf47628891",
   "metadata": {
    "scrolled": true
   },
   "outputs": [],
   "source": []
  },
  {
   "cell_type": "code",
   "execution_count": null,
   "id": "fc195bca-f974-400b-ae88-85f5c125ab97",
   "metadata": {
    "scrolled": true
   },
   "outputs": [],
   "source": []
  },
  {
   "cell_type": "code",
   "execution_count": null,
   "id": "e257a505-bd49-4c23-b0a4-713a1e98fe6a",
   "metadata": {
    "scrolled": true
   },
   "outputs": [],
   "source": []
  },
  {
   "cell_type": "code",
   "execution_count": null,
   "id": "7ca6b0b6-1135-47d5-b4f7-b0049e2c1b31",
   "metadata": {
    "scrolled": true
   },
   "outputs": [],
   "source": []
  },
  {
   "cell_type": "code",
   "execution_count": null,
   "id": "c950fd3a-683a-40a4-bcca-7ccc5f2f898d",
   "metadata": {
    "scrolled": true
   },
   "outputs": [],
   "source": []
  },
  {
   "cell_type": "code",
   "execution_count": null,
   "id": "4af3fd8d-9826-41a9-9186-d462bb000290",
   "metadata": {
    "scrolled": true
   },
   "outputs": [],
   "source": []
  },
  {
   "cell_type": "code",
   "execution_count": null,
   "id": "6e6c71aa-c1a5-49eb-9114-577a28f0f69c",
   "metadata": {
    "scrolled": true
   },
   "outputs": [],
   "source": []
  },
  {
   "cell_type": "code",
   "execution_count": null,
   "id": "b508753e-25e9-4263-9496-babfdfcf878d",
   "metadata": {
    "scrolled": true
   },
   "outputs": [],
   "source": []
  }
 ],
 "metadata": {
  "kernelspec": {
   "display_name": "Python 3 (ipykernel)",
   "language": "python",
   "name": "python3"
  },
  "language_info": {
   "codemirror_mode": {
    "name": "ipython",
    "version": 3
   },
   "file_extension": ".py",
   "mimetype": "text/x-python",
   "name": "python",
   "nbconvert_exporter": "python",
   "pygments_lexer": "ipython3",
   "version": "3.10.6"
  }
 },
 "nbformat": 4,
 "nbformat_minor": 5
}
